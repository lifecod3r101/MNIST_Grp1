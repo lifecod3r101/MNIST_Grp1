{
 "cells": [
  {
   "cell_type": "markdown",
   "metadata": {
    "id": "klsbIDxFNnZR"
   },
   "source": [
    "# Import required libraries"
   ]
  },
  {
   "cell_type": "code",
   "execution_count": 1,
   "metadata": {
    "id": "lKBe915HUeHy"
   },
   "outputs": [],
   "source": [
    "import tensorflow as tf\n",
    "from matplotlib import pyplot as plt\n",
    "import numpy as np\n",
    "import sklearn.model_selection as model_selection\n",
    "from sklearn.model_selection import train_test_split"
   ]
  },
  {
   "cell_type": "markdown",
   "metadata": {
    "id": "FprYo-7TNnZp"
   },
   "source": [
    "# Unpack and split the dataset"
   ]
  },
  {
   "cell_type": "code",
   "execution_count": 36,
   "metadata": {
    "id": "wAA3y6mAUg-Q"
   },
   "outputs": [],
   "source": [
    "#load the dataset mnist into variable ojects which is composed of images of resolution 28 * 28 of handwritten digits\n",
    "objects =  tf.keras.datasets.mnist \n",
    "# unpack and load the dataset\n",
    "(training_images, training_labels),(test_images, test_labels) = objects.load_data()\n",
    "#splitting  training data  into 80% for training and 20% for validation\n",
    "training_images,validation_images, training_labels,validation_labels = train_test_split( training_images, training_labels, test_size=0.2, random_state=0)\n"
   ]
  },
  {
   "cell_type": "markdown",
   "metadata": {
    "id": "yjmPFrAhNnZu"
   },
   "source": [
    "The number of images used for training and testing"
   ]
  },
  {
   "cell_type": "code",
   "execution_count": 32,
   "metadata": {
    "colab": {
     "base_uri": "https://localhost:8080/"
    },
    "id": "sYUpJR-PNnZw",
    "outputId": "6a01c5d8-e80a-42ee-b4da-197fc30f7f94"
   },
   "outputs": [
    {
     "data": {
      "text/plain": [
       "48000"
      ]
     },
     "execution_count": 32,
     "metadata": {},
     "output_type": "execute_result"
    }
   ],
   "source": [
    "len(training_images )"
   ]
  },
  {
   "cell_type": "code",
   "execution_count": 33,
   "metadata": {
    "colab": {
     "base_uri": "https://localhost:8080/"
    },
    "id": "npdF8cWWNnZ2",
    "outputId": "4a5199ea-c149-4097-ca1b-84670f397f5c"
   },
   "outputs": [
    {
     "data": {
      "text/plain": [
       "10000"
      ]
     },
     "execution_count": 33,
     "metadata": {},
     "output_type": "execute_result"
    }
   ],
   "source": [
    "len(test_images)"
   ]
  },
  {
   "cell_type": "code",
   "execution_count": 34,
   "metadata": {},
   "outputs": [
    {
     "data": {
      "text/plain": [
       "12000"
      ]
     },
     "execution_count": 34,
     "metadata": {},
     "output_type": "execute_result"
    }
   ],
   "source": [
    "len(validation_images)"
   ]
  },
  {
   "cell_type": "markdown",
   "metadata": {
    "id": "W0JpDGSoNnZ6"
   },
   "source": [
    "# Sample images used in training the model"
   ]
  },
  {
   "cell_type": "code",
   "execution_count": 37,
   "metadata": {
    "colab": {
     "base_uri": "https://localhost:8080/",
     "height": 268
    },
    "id": "c8ha8ebPUpj5",
    "outputId": "343801f0-eafa-4241-dab9-da94bc8d6665"
   },
   "outputs": [
    {
     "data": {
      "image/png": "[encoded data removed]",
      "text/plain": [
       "<Figure size 432x288 with 16 Axes>"
      ]
     },
     "metadata": {
      "needs_background": "light"
     },
     "output_type": "display_data"
    }
   ],
   "source": [
    "for i in range(16):\n",
    "    plt.subplot(4,4, i + 1 )\n",
    "    plt.imshow(training_images[i], cmap = plt.cm.binary)\n"
   ]
  },
  {
   "cell_type": "code",
   "execution_count": 38,
   "metadata": {
    "colab": {
     "base_uri": "https://localhost:8080/"
    },
    "id": "wo2y_GAWVE9F",
    "outputId": "68b0b625-bc59-4bb9-f47b-fb87da1fe87b"
   },
   "outputs": [
    {
     "name": "stdout",
     "output_type": "stream",
     "text": [
      "(48000, 28, 28)\n",
      "[[  0   0   0   0   0   0   0   0   0   0   0   0   0   0   0   0   0   0\n",
      "    0   0   0   0   0   0   0   0   0   0]\n",
      " [  0   0   0   0   0   0   0   0   0   0   0   0   0   0   0   0   0   0\n",
      "    0   0   0   0   0   0   0   0   0   0]\n",
      " [  0   0   0   0   0   0   0   0   0   0   0   0   0   0   0   0   0   0\n",
      "    0   0   0   0   0   0   0   0   0   0]\n",
      " [  0   0   0   0   0   0   0   0   0   0   0   0   0   0   0   0   0   0\n",
      "    0   0   0   0   0   0   0   0   0   0]\n",
      " [  0   0   0   0   0   0   0   0   0   0   0   0   0   0   0   0   0   0\n",
      "    0   0   0   0   0   0   0   0   0   0]\n",
      " [  0   0   0   0   0   0   0   0   0   0   0   0   0   0   0   0   0   0\n",
      "    0   0   0   0   0   0   0   0   0   0]\n",
      " [  0   0   0   0   0   0   0   0   0   0   0   0   0   0   0   0   0   0\n",
      "    0   0   0   0   0   0   0   0   0   0]\n",
      " [  0   0   0   0   0   0   0   0   0   0   0   0   0   0  13  48 131 214\n",
      "  210   0   0   0   0   0   0   0   0   0]\n",
      " [  0   0   0   0   0   0   0   0   0   0   0  39  96 156 228 253 253 253\n",
      "  196   0   0   0   0   0   0   0   0   0]\n",
      " [  0   0   0   0   0   0   0   0  49 165 204 248 253 240 208 146 126 253\n",
      "  104   0   0   0   0   0   0   0   0   0]\n",
      " [  0   0   0   0   0   0   0   0  75 254 240 246  77   7   0   0 126 253\n",
      "   69   0   0   0   0   0   0   0   0   0]\n",
      " [  0   0   0   0   0   0   0   0  75 254 122 120   0   0   0   0 208 227\n",
      "   12   0   0   0   0   0   0   0   0   0]\n",
      " [  0   0   0   0   0   0   0   0  23  45   0   0   0   0   0  61 254 156\n",
      "    0   0   0   0   0   0   0   0   0   0]\n",
      " [  0   0   0   0   0   0   0   0   0   0   0   0   0   0   0  60 253 133\n",
      "    0   0   0   0   0   0   0   0   0   0]\n",
      " [  0   0   0   0   0   0   0   0   0   0   0   0   0   0   0 109 253  86\n",
      "    0   0   0   0   0   0   0   0   0   0]\n",
      " [  0   0   0   0   0   0   0   0   0   0   0   0   0   0   6 199 228  14\n",
      "    0   0   0   0   0   0   0   0   0   0]\n",
      " [  0   0   0   0   0   0   0   0   0   0   0   0   0   0  30 253 163   0\n",
      "    0   0   0   0   0   0   0   0   0   0]\n",
      " [  0   0   0   0   0   0   0   0   0   0   0   0   0   0  61 254 155   0\n",
      "    0   0   0   0   0   0   0   0   0   0]\n",
      " [  0   0   0   0   0   0   0   0   0   0   0   0   0   0 105 253  89   0\n",
      "    0   0   0   0   0   0   0   0   0   0]\n",
      " [  0   0   0   0   0   0   0   0   0   0   0   0   0   0 153 249  18   0\n",
      "    0   0   0   0   0   0   0   0   0   0]\n",
      " [  0   0   0   0   0   0   0   0   0   0   0   0   0   0 236 193   0   0\n",
      "    0   0   0   0   0   0   0   0   0   0]\n",
      " [  0   0   0   0   0   0   0   0   0   0   0   0   0   0 254 171   0   0\n",
      "    0   0   0   0   0   0   0   0   0   0]\n",
      " [  0   0   0   0   0   0   0   0   0   0   0   0   0  53 255 120   0   0\n",
      "    0   0   0   0   0   0   0   0   0   0]\n",
      " [  0   0   0   0   0   0   0   0   0   0   0   0   0  75 254  80   0   0\n",
      "    0   0   0   0   0   0   0   0   0   0]\n",
      " [  0   0   0   0   0   0   0   0   0   0   0   0   0  75 254 120   0   0\n",
      "    0   0   0   0   0   0   0   0   0   0]\n",
      " [  0   0   0   0   0   0   0   0   0   0   0   0   0  75 254 158   0   0\n",
      "    0   0   0   0   0   0   0   0   0   0]\n",
      " [  0   0   0   0   0   0   0   0   0   0   0   0   0  53 245  40   0   0\n",
      "    0   0   0   0   0   0   0   0   0   0]\n",
      " [  0   0   0   0   0   0   0   0   0   0   0   0   0   0   0   0   0   0\n",
      "    0   0   0   0   0   0   0   0   0   0]]\n"
     ]
    }
   ],
   "source": [
    "print(training_images.shape)\n",
    "print(training_images[0])"
   ]
  },
  {
   "cell_type": "code",
   "execution_count": 39,
   "metadata": {
    "colab": {
     "base_uri": "https://localhost:8080/",
     "height": 265
    },
    "id": "AnIzvRSTNnaF",
    "outputId": "640b98e5-428a-4c19-89a3-91686756cae2"
   },
   "outputs": [
    {
     "data": {
      "image/png": "[encoded data removed]",
      "text/plain": [
       "<Figure size 432x288 with 1 Axes>"
      ]
     },
     "metadata": {
      "needs_background": "light"
     },
     "output_type": "display_data"
    }
   ],
   "source": [
    "plt.imshow(training_images[0], cmap = plt.cm.binary)\n",
    "plt.show()"
   ]
  },
  {
   "cell_type": "markdown",
   "metadata": {
    "id": "Bcuxrj7yNnaH"
   },
   "source": [
    "# Normalization to reduce stress on computation"
   ]
  },
  {
   "cell_type": "code",
   "execution_count": 40,
   "metadata": {
    "id": "jGYAtlUXWI1a"
   },
   "outputs": [],
   "source": [
    "training_images  = training_images / 255.0\n",
    "test_images = test_images / 255.0\n",
    "validation_images = validation_images/255.0"
   ]
  },
  {
   "cell_type": "code",
   "execution_count": 41,
   "metadata": {
    "colab": {
     "base_uri": "https://localhost:8080/"
    },
    "id": "SV-eqcXjNnaL",
    "outputId": "0bd192f8-97eb-4cf0-e4a4-2ce4de57babb"
   },
   "outputs": [
    {
     "name": "stdout",
     "output_type": "stream",
     "text": [
      "[[0.         0.         0.         0.         0.         0.\n",
      "  0.         0.         0.         0.         0.         0.\n",
      "  0.         0.         0.         0.         0.         0.\n",
      "  0.         0.         0.         0.         0.         0.\n",
      "  0.         0.         0.         0.        ]\n",
      " [0.         0.         0.         0.         0.         0.\n",
      "  0.         0.         0.         0.         0.         0.\n",
      "  0.         0.         0.         0.         0.         0.\n",
      "  0.         0.         0.         0.         0.         0.\n",
      "  0.         0.         0.         0.        ]\n",
      " [0.         0.         0.         0.         0.         0.\n",
      "  0.         0.         0.         0.         0.         0.\n",
      "  0.         0.         0.         0.         0.         0.\n",
      "  0.         0.         0.         0.         0.         0.\n",
      "  0.         0.         0.         0.        ]\n",
      " [0.         0.         0.         0.         0.         0.\n",
      "  0.         0.         0.         0.         0.         0.\n",
      "  0.         0.         0.         0.         0.         0.\n",
      "  0.         0.         0.         0.         0.         0.\n",
      "  0.         0.         0.         0.        ]\n",
      " [0.         0.         0.         0.         0.         0.\n",
      "  0.         0.         0.         0.         0.         0.\n",
      "  0.         0.         0.         0.         0.         0.\n",
      "  0.         0.         0.         0.         0.         0.\n",
      "  0.         0.         0.         0.        ]\n",
      " [0.         0.         0.         0.         0.         0.\n",
      "  0.         0.         0.         0.         0.         0.\n",
      "  0.         0.         0.         0.         0.         0.\n",
      "  0.         0.         0.         0.         0.         0.\n",
      "  0.         0.         0.         0.        ]\n",
      " [0.         0.         0.         0.         0.         0.\n",
      "  0.         0.         0.         0.         0.         0.\n",
      "  0.         0.         0.         0.         0.         0.\n",
      "  0.         0.         0.         0.         0.         0.\n",
      "  0.         0.         0.         0.        ]\n",
      " [0.         0.         0.         0.         0.         0.\n",
      "  0.         0.         0.         0.         0.         0.\n",
      "  0.         0.         0.05098039 0.18823529 0.51372549 0.83921569\n",
      "  0.82352941 0.         0.         0.         0.         0.\n",
      "  0.         0.         0.         0.        ]\n",
      " [0.         0.         0.         0.         0.         0.\n",
      "  0.         0.         0.         0.         0.         0.15294118\n",
      "  0.37647059 0.61176471 0.89411765 0.99215686 0.99215686 0.99215686\n",
      "  0.76862745 0.         0.         0.         0.         0.\n",
      "  0.         0.         0.         0.        ]\n",
      " [0.         0.         0.         0.         0.         0.\n",
      "  0.         0.         0.19215686 0.64705882 0.8        0.97254902\n",
      "  0.99215686 0.94117647 0.81568627 0.57254902 0.49411765 0.99215686\n",
      "  0.40784314 0.         0.         0.         0.         0.\n",
      "  0.         0.         0.         0.        ]\n",
      " [0.         0.         0.         0.         0.         0.\n",
      "  0.         0.         0.29411765 0.99607843 0.94117647 0.96470588\n",
      "  0.30196078 0.02745098 0.         0.         0.49411765 0.99215686\n",
      "  0.27058824 0.         0.         0.         0.         0.\n",
      "  0.         0.         0.         0.        ]\n",
      " [0.         0.         0.         0.         0.         0.\n",
      "  0.         0.         0.29411765 0.99607843 0.47843137 0.47058824\n",
      "  0.         0.         0.         0.         0.81568627 0.89019608\n",
      "  0.04705882 0.         0.         0.         0.         0.\n",
      "  0.         0.         0.         0.        ]\n",
      " [0.         0.         0.         0.         0.         0.\n",
      "  0.         0.         0.09019608 0.17647059 0.         0.\n",
      "  0.         0.         0.         0.23921569 0.99607843 0.61176471\n",
      "  0.         0.         0.         0.         0.         0.\n",
      "  0.         0.         0.         0.        ]\n",
      " [0.         0.         0.         0.         0.         0.\n",
      "  0.         0.         0.         0.         0.         0.\n",
      "  0.         0.         0.         0.23529412 0.99215686 0.52156863\n",
      "  0.         0.         0.         0.         0.         0.\n",
      "  0.         0.         0.         0.        ]\n",
      " [0.         0.         0.         0.         0.         0.\n",
      "  0.         0.         0.         0.         0.         0.\n",
      "  0.         0.         0.         0.42745098 0.99215686 0.3372549\n",
      "  0.         0.         0.         0.         0.         0.\n",
      "  0.         0.         0.         0.        ]\n",
      " [0.         0.         0.         0.         0.         0.\n",
      "  0.         0.         0.         0.         0.         0.\n",
      "  0.         0.         0.02352941 0.78039216 0.89411765 0.05490196\n",
      "  0.         0.         0.         0.         0.         0.\n",
      "  0.         0.         0.         0.        ]\n",
      " [0.         0.         0.         0.         0.         0.\n",
      "  0.         0.         0.         0.         0.         0.\n",
      "  0.         0.         0.11764706 0.99215686 0.63921569 0.\n",
      "  0.         0.         0.         0.         0.         0.\n",
      "  0.         0.         0.         0.        ]\n",
      " [0.         0.         0.         0.         0.         0.\n",
      "  0.         0.         0.         0.         0.         0.\n",
      "  0.         0.         0.23921569 0.99607843 0.60784314 0.\n",
      "  0.         0.         0.         0.         0.         0.\n",
      "  0.         0.         0.         0.        ]\n",
      " [0.         0.         0.         0.         0.         0.\n",
      "  0.         0.         0.         0.         0.         0.\n",
      "  0.         0.         0.41176471 0.99215686 0.34901961 0.\n",
      "  0.         0.         0.         0.         0.         0.\n",
      "  0.         0.         0.         0.        ]\n",
      " [0.         0.         0.         0.         0.         0.\n",
      "  0.         0.         0.         0.         0.         0.\n",
      "  0.         0.         0.6        0.97647059 0.07058824 0.\n",
      "  0.         0.         0.         0.         0.         0.\n",
      "  0.         0.         0.         0.        ]\n",
      " [0.         0.         0.         0.         0.         0.\n",
      "  0.         0.         0.         0.         0.         0.\n",
      "  0.         0.         0.9254902  0.75686275 0.         0.\n",
      "  0.         0.         0.         0.         0.         0.\n",
      "  0.         0.         0.         0.        ]\n",
      " [0.         0.         0.         0.         0.         0.\n",
      "  0.         0.         0.         0.         0.         0.\n",
      "  0.         0.         0.99607843 0.67058824 0.         0.\n",
      "  0.         0.         0.         0.         0.         0.\n",
      "  0.         0.         0.         0.        ]\n",
      " [0.         0.         0.         0.         0.         0.\n",
      "  0.         0.         0.         0.         0.         0.\n",
      "  0.         0.20784314 1.         0.47058824 0.         0.\n",
      "  0.         0.         0.         0.         0.         0.\n",
      "  0.         0.         0.         0.        ]\n",
      " [0.         0.         0.         0.         0.         0.\n",
      "  0.         0.         0.         0.         0.         0.\n",
      "  0.         0.29411765 0.99607843 0.31372549 0.         0.\n",
      "  0.         0.         0.         0.         0.         0.\n",
      "  0.         0.         0.         0.        ]\n",
      " [0.         0.         0.         0.         0.         0.\n",
      "  0.         0.         0.         0.         0.         0.\n",
      "  0.         0.29411765 0.99607843 0.47058824 0.         0.\n",
      "  0.         0.         0.         0.         0.         0.\n",
      "  0.         0.         0.         0.        ]\n",
      " [0.         0.         0.         0.         0.         0.\n",
      "  0.         0.         0.         0.         0.         0.\n",
      "  0.         0.29411765 0.99607843 0.61960784 0.         0.\n",
      "  0.         0.         0.         0.         0.         0.\n",
      "  0.         0.         0.         0.        ]\n",
      " [0.         0.         0.         0.         0.         0.\n",
      "  0.         0.         0.         0.         0.         0.\n",
      "  0.         0.20784314 0.96078431 0.15686275 0.         0.\n",
      "  0.         0.         0.         0.         0.         0.\n",
      "  0.         0.         0.         0.        ]\n",
      " [0.         0.         0.         0.         0.         0.\n",
      "  0.         0.         0.         0.         0.         0.\n",
      "  0.         0.         0.         0.         0.         0.\n",
      "  0.         0.         0.         0.         0.         0.\n",
      "  0.         0.         0.         0.        ]]\n"
     ]
    }
   ],
   "source": [
    "print(training_images[0])"
   ]
  },
  {
   "cell_type": "code",
   "execution_count": 42,
   "metadata": {
    "colab": {
     "base_uri": "https://localhost:8080/",
     "height": 265
    },
    "id": "65cNsydEb_v4",
    "outputId": "d72390c1-b2af-42f4-d980-25a7cb59110e"
   },
   "outputs": [
    {
     "data": {
      "image/png": "[encoded data removed]",
      "text/plain": [
       "<Figure size 432x288 with 1 Axes>"
      ]
     },
     "metadata": {
      "needs_background": "light"
     },
     "output_type": "display_data"
    }
   ],
   "source": [
    "plt.imshow(training_images[0], cmap = plt.cm.binary)\n",
    "plt.show()"
   ]
  },
  {
   "cell_type": "markdown",
   "metadata": {
    "id": "0HghwWk-NnaP"
   },
   "source": [
    "# Define architecture of the model"
   ]
  },
  {
   "cell_type": "code",
   "execution_count": 43,
   "metadata": {
    "id": "Vrw3ZLLKWuMZ"
   },
   "outputs": [],
   "source": [
    "# Here the architecure of the model is defined\n",
    "\n",
    "model = tf.keras.models.Sequential([tf.keras.layers.Flatten(input_shape=(28,28)), \n",
    "                                    tf.keras.layers.Dense(128, activation='relu'), \n",
    "                                    tf.keras.layers.Dense(10, activation=tf.nn.softmax)])\n",
    "\n"
   ]
  },
  {
   "cell_type": "code",
   "execution_count": 44,
   "metadata": {
    "colab": {
     "base_uri": "https://localhost:8080/"
    },
    "id": "9OQoBMagNnaS",
    "outputId": "f89b62b0-8f97-4e12-f05d-9904a9d8f670"
   },
   "outputs": [
    {
     "name": "stdout",
     "output_type": "stream",
     "text": [
      "Model: \"sequential_1\"\n",
      "_________________________________________________________________\n",
      " Layer (type)                Output Shape              Param #   \n",
      "=================================================================\n",
      " flatten_1 (Flatten)         (None, 784)               0         \n",
      "                                                                 \n",
      " dense_2 (Dense)             (None, 128)               100480    \n",
      "                                                                 \n",
      " dense_3 (Dense)             (None, 10)                1290      \n",
      "                                                                 \n",
      "=================================================================\n",
      "Total params: 101,770\n",
      "Trainable params: 101,770\n",
      "Non-trainable params: 0\n",
      "_________________________________________________________________\n"
     ]
    }
   ],
   "source": [
    "model.summary()"
   ]
  },
  {
   "cell_type": "code",
   "execution_count": 46,
   "metadata": {
    "id": "iOQXHUjVW3ol"
   },
   "outputs": [],
   "source": [
    "# most go to optimizer is adam, others include stochastic gradient descent\n",
    "# we gonna calcluate losses using sparse categorica _crossentropy if it were two classes maybe binary categorical crossentropy\n",
    "model.compile(optimizer = 'adam',\n",
    "              loss = 'sparse_categorical_crossentropy',\n",
    "              metrics=['accuracy'])\n"
   ]
  },
  {
   "cell_type": "code",
   "execution_count": 29,
   "metadata": {},
   "outputs": [],
   "source": [
    "# validation_images"
   ]
  },
  {
   "cell_type": "markdown",
   "metadata": {
    "id": "2TVl_neANnaW"
   },
   "source": [
    "# Training"
   ]
  },
  {
   "cell_type": "code",
   "execution_count": 47,
   "metadata": {
    "colab": {
     "base_uri": "https://localhost:8080/"
    },
    "id": "catgliv2W7-L",
    "outputId": "b75c55ed-50f1-4e39-8e43-c4e9d560fd98"
   },
   "outputs": [
    {
     "name": "stdout",
     "output_type": "stream",
     "text": [
      "Epoch 1/10\n",
      "1500/1500 [==============================] - 5s 3ms/step - loss: 0.2924 - accuracy: 0.9155 - val_loss: 0.1572 - val_accuracy: 0.9529\n",
      "Epoch 2/10\n",
      "1500/1500 [==============================] - 4s 3ms/step - loss: 0.1320 - accuracy: 0.9617 - val_loss: 0.1082 - val_accuracy: 0.9689\n",
      "Epoch 3/10\n",
      "1500/1500 [==============================] - 5s 3ms/step - loss: 0.0895 - accuracy: 0.9739 - val_loss: 0.1028 - val_accuracy: 0.9700\n",
      "Epoch 4/10\n",
      "1500/1500 [==============================] - 5s 3ms/step - loss: 0.0684 - accuracy: 0.9791 - val_loss: 0.0827 - val_accuracy: 0.9747\n",
      "Epoch 5/10\n",
      "1500/1500 [==============================] - 5s 3ms/step - loss: 0.0521 - accuracy: 0.9846 - val_loss: 0.0809 - val_accuracy: 0.9751\n",
      "Epoch 6/10\n",
      "1500/1500 [==============================] - 5s 3ms/step - loss: 0.0406 - accuracy: 0.9878 - val_loss: 0.0785 - val_accuracy: 0.9755\n",
      "Epoch 7/10\n",
      "1500/1500 [==============================] - 5s 3ms/step - loss: 0.0329 - accuracy: 0.9899 - val_loss: 0.0753 - val_accuracy: 0.9787\n",
      "Epoch 8/10\n",
      "1500/1500 [==============================] - 4s 3ms/step - loss: 0.0265 - accuracy: 0.9916 - val_loss: 0.0807 - val_accuracy: 0.9759\n",
      "Epoch 9/10\n",
      "1500/1500 [==============================] - 4s 3ms/step - loss: 0.0204 - accuracy: 0.9939 - val_loss: 0.0815 - val_accuracy: 0.9778\n",
      "Epoch 10/10\n",
      "1500/1500 [==============================] - 4s 3ms/step - loss: 0.0166 - accuracy: 0.9951 - val_loss: 0.0850 - val_accuracy: 0.9763\n"
     ]
    }
   ],
   "source": [
    "# model.fit(training_images, training_labels, epochs=5)\n",
    "history = model.fit(training_images, training_labels, epochs=10, validation_data = (validation_images, validation_labels))"
   ]
  },
  {
   "cell_type": "code",
   "execution_count": 48,
   "metadata": {
    "colab": {
     "base_uri": "https://localhost:8080/"
    },
    "id": "zXhVQ6VVNnaZ",
    "outputId": "e10ce565-4e87-4fac-c2f8-4810370a9d9f"
   },
   "outputs": [
    {
     "data": {
      "text/plain": [
       "{'loss': [0.29239368438720703,\n",
       "  0.13202033936977386,\n",
       "  0.0894521102309227,\n",
       "  0.06840547174215317,\n",
       "  0.052087340503931046,\n",
       "  0.04064624384045601,\n",
       "  0.03286677598953247,\n",
       "  0.026465846225619316,\n",
       "  0.02035457268357277,\n",
       "  0.016588348895311356],\n",
       " 'accuracy': [0.9155208468437195,\n",
       "  0.9616666436195374,\n",
       "  0.9738749861717224,\n",
       "  0.9791250228881836,\n",
       "  0.9846041798591614,\n",
       "  0.9878333210945129,\n",
       "  0.9899166822433472,\n",
       "  0.9915833473205566,\n",
       "  0.9939374923706055,\n",
       "  0.9951249957084656],\n",
       " 'val_loss': [0.15719686448574066,\n",
       "  0.1081540659070015,\n",
       "  0.10283636301755905,\n",
       "  0.08274431526660919,\n",
       "  0.08089490234851837,\n",
       "  0.07852794229984283,\n",
       "  0.07531768083572388,\n",
       "  0.08072756975889206,\n",
       "  0.08145302534103394,\n",
       "  0.0850181058049202],\n",
       " 'val_accuracy': [0.95291668176651,\n",
       "  0.968916654586792,\n",
       "  0.9700000286102295,\n",
       "  0.9746666550636292,\n",
       "  0.9750833511352539,\n",
       "  0.9754999876022339,\n",
       "  0.9786666631698608,\n",
       "  0.9759166836738586,\n",
       "  0.9778333306312561,\n",
       "  0.9763333201408386]}"
      ]
     },
     "execution_count": 48,
     "metadata": {},
     "output_type": "execute_result"
    }
   ],
   "source": [
    "history.history"
   ]
  },
  {
   "cell_type": "code",
   "execution_count": 49,
   "metadata": {
    "colab": {
     "base_uri": "https://localhost:8080/",
     "height": 295
    },
    "id": "a1pwiJKWNnab",
    "outputId": "d4db625a-35a5-4013-9563-3270a33bd3fc"
   },
   "outputs": [
    {
     "data": {
      "image/png": "[encoded data removed]",
      "text/plain": [
       "<Figure size 432x288 with 1 Axes>"
      ]
     },
     "metadata": {
      "needs_background": "light"
     },
     "output_type": "display_data"
    }
   ],
   "source": [
    "plt.plot(history.history['loss'], label=\"training loss\" )\n",
    "plt.plot(history.history['val_loss'], label='Validation loss')\n",
    "plt.title('Graph showing loss against epochs')\n",
    "plt.xlabel('Number of epochs')\n",
    "plt.xticks([1,2,3,4,5,6,7,8,9,10])\n",
    "plt.ylabel('Loss')\n",
    "plt.legend()\n",
    "plt.show()"
   ]
  },
  {
   "cell_type": "code",
   "execution_count": 51,
   "metadata": {
    "colab": {
     "base_uri": "https://localhost:8080/",
     "height": 297
    },
    "id": "ioUYVS0FNnad",
    "outputId": "9cf30f23-309f-469e-eebb-1589b7d74715"
   },
   "outputs": [
    {
     "data": {
      "image/png": "[encoded data removed]",
      "text/plain": [
       "<Figure size 432x288 with 1 Axes>"
      ]
     },
     "metadata": {
      "needs_background": "light"
     },
     "output_type": "display_data"
    }
   ],
   "source": [
    "plt.plot(history.history['accuracy'], label=\"training accuracy\" )\n",
    "plt.plot(history.history['val_accuracy'], label=\"validation accuracy\" )\n",
    "plt.title('Graph of accuracy against epochs', fontdict={'fontsize':16})\n",
    "plt.xlabel('Number of epochs')\n",
    "plt.xticks([1,2,3,4,5,6,7,8,9,10])\n",
    "plt.ylabel('Accuracy')\n",
    "plt.legend()\n",
    "plt.show()"
   ]
  },
  {
   "cell_type": "markdown",
   "metadata": {
    "id": "haJWswHoNnaf"
   },
   "source": [
    "# Model evaluation"
   ]
  },
  {
   "cell_type": "code",
   "execution_count": 52,
   "metadata": {
    "colab": {
     "base_uri": "https://localhost:8080/"
    },
    "id": "2MQGmYxnX-2U",
    "outputId": "bcf67e67-2f2a-4c74-b5f5-c9bb44688e4d"
   },
   "outputs": [
    {
     "name": "stdout",
     "output_type": "stream",
     "text": [
      "313/313 [==============================] - 1s 3ms/step - loss: 0.0895 - accuracy: 0.9750\n",
      "[0.08947933465242386, 0.9750000238418579]\n"
     ]
    }
   ],
   "source": [
    "\n",
    "print(model.evaluate(test_images,test_labels))"
   ]
  },
  {
   "cell_type": "code",
   "execution_count": 62,
   "metadata": {
    "colab": {
     "base_uri": "https://localhost:8080/"
    },
    "id": "iB2qcOkRNnah",
    "outputId": "7b236d67-c360-423a-ec74-a21a1094d585"
   },
   "outputs": [
    {
     "data": {
      "text/plain": [
       "(6, array([6], dtype=int64), array([0.9847296], dtype=float32))"
      ]
     },
     "execution_count": 62,
     "metadata": {},
     "output_type": "execute_result"
    }
   ],
   "source": [
    "psix = model.predict(test_images[339].reshape(-1,28,28))\n",
    "test_labels[339], psix.argmax(axis=1), psix.max(axis=1)\n",
    "\n",
    "\n"
   ]
  },
  {
   "cell_type": "code",
   "execution_count": 63,
   "metadata": {},
   "outputs": [
    {
     "data": {
      "text/plain": [
       "(9, array([6], dtype=int64), array([0.9847296], dtype=float32))"
      ]
     },
     "execution_count": 63,
     "metadata": {},
     "output_type": "execute_result"
    }
   ],
   "source": [
    "pnine = model.predict(test_images[7].reshape(-1,28,28))\n",
    "test_labels[7], psix.argmax(axis=1), psix.max(axis=1)"
   ]
  },
  {
   "cell_type": "code",
   "execution_count": 55,
   "metadata": {
    "colab": {
     "base_uri": "https://localhost:8080/"
    },
    "id": "Rs6ZEev6Nnai",
    "outputId": "eba70d2d-3f0b-4bdc-edeb-9116efde8e53"
   },
   "outputs": [
    {
     "name": "stdout",
     "output_type": "stream",
     "text": [
      "11\n",
      "21\n",
      "22\n",
      "50\n",
      "54\n",
      "66\n",
      "81\n",
      "88\n",
      "91\n",
      "98\n"
     ]
    },
    {
     "data": {
      "text/plain": [
       "(10, 10)"
      ]
     },
     "execution_count": 55,
     "metadata": {},
     "output_type": "execute_result"
    }
   ],
   "source": [
    "#Getting 6\n",
    "six_imgs, six_labels = [], []\n",
    "\n",
    "counter = 0\n",
    "\n",
    "for i in range(test_images.shape[0]):\n",
    "    if test_labels[i] == 6:\n",
    "        six_imgs.append(test_images[i])\n",
    "        six_labels.append(test_labels[i])\n",
    "        print(i)\n",
    "        counter +=1\n",
    "    if counter ==10:\n",
    "        break;\n",
    "\n",
    "len(six_imgs), len(six_labels)\n"
   ]
  },
  {
   "cell_type": "code",
   "execution_count": 22,
   "metadata": {
    "colab": {
     "base_uri": "https://localhost:8080/"
    },
    "id": "fa39XWJBNnak",
    "outputId": "71ea3ebf-adef-47ad-c6d7-4f9f4e389f8d"
   },
   "outputs": [
    {
     "name": "stdout",
     "output_type": "stream",
     "text": [
      "4\n",
      "6\n",
      "19\n",
      "24\n",
      "27\n",
      "33\n",
      "42\n",
      "48\n",
      "49\n",
      "56\n"
     ]
    },
    {
     "data": {
      "text/plain": [
       "(10, 10)"
      ]
     },
     "execution_count": 22,
     "metadata": {},
     "output_type": "execute_result"
    }
   ],
   "source": [
    "#Getting 4\n",
    "four_imgs, four_labels = [], []\n",
    "\n",
    "counter = 0\n",
    "\n",
    "for i in range(test_images.shape[0]):\n",
    "    if test_labels[i] == 4:\n",
    "        print(i)\n",
    "        four_imgs.append(test_images[i])\n",
    "        four_labels.append(test_labels[i])\n",
    "        counter +=1\n",
    "    if counter ==10:\n",
    "        break;\n",
    "\n",
    "len(four_imgs), len(four_labels)"
   ]
  },
  {
   "cell_type": "code",
   "execution_count": 56,
   "metadata": {
    "colab": {
     "base_uri": "https://localhost:8080/"
    },
    "id": "36T9dsrANnal",
    "outputId": "5228c72e-7bf4-4455-ef4f-942405807bbc"
   },
   "outputs": [
    {
     "name": "stdout",
     "output_type": "stream",
     "text": [
      "7\n",
      "9\n",
      "12\n",
      "16\n",
      "20\n",
      "58\n",
      "62\n",
      "73\n",
      "78\n",
      "92\n"
     ]
    },
    {
     "data": {
      "text/plain": [
       "(10, 10)"
      ]
     },
     "execution_count": 56,
     "metadata": {},
     "output_type": "execute_result"
    }
   ],
   "source": [
    "#Getting 9 \n",
    "nine_imgs, nine_labels = [], []\n",
    "\n",
    "counter = 0\n",
    "\n",
    "for i in range(test_images.shape[0]):\n",
    "    if test_labels[i] == 9:\n",
    "        print(i)\n",
    "        nine_imgs.append(test_images[i])\n",
    "        nine_labels.append(test_labels[i])\n",
    "        counter +=1\n",
    "    if counter ==10:\n",
    "        break;\n",
    "\n",
    "len(nine_imgs), len(nine_labels)"
   ]
  },
  {
   "cell_type": "code",
   "execution_count": 57,
   "metadata": {
    "colab": {
     "base_uri": "https://localhost:8080/"
    },
    "id": "4YahwLl1Nnan",
    "outputId": "64746efd-791c-45fe-e7dc-05b8f10b505b"
   },
   "outputs": [
    {
     "name": "stdout",
     "output_type": "stream",
     "text": [
      "[2.5882186e-06 1.8950543e-09 3.1665129e-06 8.5269882e-08 1.6532063e-07\n",
      " 1.5259056e-02 9.8472959e-01 9.8510455e-10 5.3405533e-06 7.1439288e-08]\n"
     ]
    }
   ],
   "source": [
    "psix[0][8]\n",
    "print(psix[0])"
   ]
  },
  {
   "cell_type": "code",
   "execution_count": 64,
   "metadata": {
    "colab": {
     "base_uri": "https://localhost:8080/",
     "height": 312
    },
    "id": "PbQV1a01Nnao",
    "outputId": "5e7ff10c-59c1-4417-cfd5-a5a982ecbf05"
   },
   "outputs": [
    {
     "data": {
      "text/plain": [
       "<BarContainer object of 10 artists>"
      ]
     },
     "execution_count": 64,
     "metadata": {},
     "output_type": "execute_result"
    },
    {
     "data": {
      "image/png": "[encoded data removed]",
      "text/plain": [
       "<Figure size 432x288 with 1 Axes>"
      ]
     },
     "metadata": {
      "needs_background": "light"
     },
     "output_type": "display_data"
    }
   ],
   "source": [
    "# help(plt.bar)\n",
    "#Predicting 9\n",
    "plt.title(\"Bar Graph showing accuracy in percentage of No. times 9 was predicted as any other number\")\n",
    "plt.ylabel('Percentage')\n",
    "plt.xlabel('Digits')\n",
    "\n",
    "plt.bar([i for i in range(0, len(pnine[0]))],pnine[0], width=0.5)"
   ]
  },
  {
   "cell_type": "code",
   "execution_count": 65,
   "metadata": {
    "colab": {
     "base_uri": "https://localhost:8080/"
    },
    "id": "d5ZAtidoNnap",
    "outputId": "c5c0789b-6f73-4005-d7c6-94343e9205d6"
   },
   "outputs": [
    {
     "data": {
      "text/plain": [
       "(6, array([6], dtype=int64), array([0.9999888], dtype=float32))"
      ]
     },
     "execution_count": 65,
     "metadata": {},
     "output_type": "execute_result"
    }
   ],
   "source": [
    "#predicting digit 6\n",
    "psix = model.predict(test_images[11].reshape(-1,28,28))\n",
    "test_labels[11], psix.argmax(axis=1), psix.max(axis=1)"
   ]
  },
  {
   "cell_type": "code",
   "execution_count": 66,
   "metadata": {
    "colab": {
     "base_uri": "https://localhost:8080/",
     "height": 312
    },
    "id": "ClRDgOrONnar",
    "outputId": "ffe931ae-b76e-4101-dafe-008ceb940399"
   },
   "outputs": [
    {
     "data": {
      "text/plain": [
       "<BarContainer object of 10 artists>"
      ]
     },
     "execution_count": 66,
     "metadata": {},
     "output_type": "execute_result"
    },
    {
     "data": {
      "image/png": "[encoded data removed]",
      "text/plain": [
       "<Figure size 432x288 with 1 Axes>"
      ]
     },
     "metadata": {
      "needs_background": "light"
     },
     "output_type": "display_data"
    }
   ],
   "source": [
    "plt.title(\"Bar Graph showing accuracy in percentage of No. times 6 was predicted as any other number\")\n",
    "plt.ylabel('Percentage')\n",
    "plt.xlabel('Digits')\n",
    "\n",
    "plt.bar([i for i in range(0, len(psix[0]))],psix[0], width=0.5) "
   ]
  },
  {
   "cell_type": "code",
   "execution_count": 67,
   "metadata": {
    "colab": {
     "base_uri": "https://localhost:8080/"
    },
    "id": "ssuhig7xNnas",
    "outputId": "83548753-7ef2-4dd3-d767-e65eae035931"
   },
   "outputs": [
    {
     "data": {
      "text/plain": [
       "(4, array([4], dtype=int64), array([0.99999976], dtype=float32))"
      ]
     },
     "execution_count": 67,
     "metadata": {},
     "output_type": "execute_result"
    }
   ],
   "source": [
    "pfour = model.predict(test_images[19].reshape(-1,28,28))\n",
    "test_labels[19], pfour.argmax(axis=1), pfour.max(axis=1)"
   ]
  },
  {
   "cell_type": "code",
   "execution_count": 68,
   "metadata": {
    "colab": {
     "base_uri": "https://localhost:8080/",
     "height": 312
    },
    "id": "BAozSyvQNnat",
    "outputId": "1032c519-7d0e-4c12-de3b-0b0da5aea1f1"
   },
   "outputs": [
    {
     "data": {
      "text/plain": [
       "<BarContainer object of 10 artists>"
      ]
     },
     "execution_count": 68,
     "metadata": {},
     "output_type": "execute_result"
    },
    {
     "data": {
      "image/png": "[encoded data removed]",
      "text/plain": [
       "<Figure size 432x288 with 1 Axes>"
      ]
     },
     "metadata": {
      "needs_background": "light"
     },
     "output_type": "display_data"
    }
   ],
   "source": [
    "plt.title(\"Bar Graph showing accuracy in percentage of No. times 4 was predicted as any other number\")\n",
    "plt.ylabel('Percentage')\n",
    "plt.xlabel('Digits')\n",
    "\n",
    "plt.bar([i for i in range(0, len(pfour[0]))],pfour[0], width=0.5) "
   ]
  },
  {
   "cell_type": "code",
   "execution_count": 69,
   "metadata": {
    "id": "NFXMdcOXNnav"
   },
   "outputs": [],
   "source": [
    "import seaborn as sns\n",
    "from sklearn.metrics import confusion_matrix , accuracy_score , recall_score ,precision_score"
   ]
  },
  {
   "cell_type": "code",
   "execution_count": 70,
   "metadata": {
    "colab": {
     "base_uri": "https://localhost:8080/",
     "height": 607
    },
    "id": "8xws9P0zNnaw",
    "outputId": "574f619e-c40c-4a5f-dd65-2c9c4b5eb73f"
   },
   "outputs": [
    {
     "data": {
      "image/png": "[encoded data removed]",
      "text/plain": [
       "<Figure size 720x720 with 2 Axes>"
      ]
     },
     "metadata": {
      "needs_background": "light"
     },
     "output_type": "display_data"
    }
   ],
   "source": [
    "arr = confusion_matrix(test_labels , np.argmax(model.predict(test_images) , axis =1))\n",
    "\n",
    "plt.figure(figsize=(10 , 10))\n",
    "sns.heatmap(arr ,\n",
    "            cmap = 'summer',\n",
    "            fmt ='g',\n",
    "            annot=True \n",
    "            )\n",
    "plt.title(\"Confusion matrix showing summary of prediction resu\")\n",
    "plt.show()"
   ]
  },
  {
   "cell_type": "code",
   "execution_count": 71,
   "metadata": {
    "colab": {
     "base_uri": "https://localhost:8080/"
    },
    "id": "Yv-72Z_MEEcn",
    "outputId": "30c22d5a-b743-4d88-fee3-5b769ae6e01e"
   },
   "outputs": [
    {
     "name": "stdout",
     "output_type": "stream",
     "text": [
      "INFO:tensorflow:Assets written to: mnist_grp1.model\\assets\n"
     ]
    }
   ],
   "source": [
    "model.save('mnist_grp1.model')"
   ]
  },
  {
   "cell_type": "code",
   "execution_count": 54,
   "metadata": {
    "id": "33FKzmynNnaz"
   },
   "outputs": [],
   "source": [
    "saved_model = tf.keras.models.load_model('mnist_grp1.model')"
   ]
  },
  {
   "cell_type": "code",
   "execution_count": null,
   "metadata": {},
   "outputs": [],
   "source": []
  }
 ],
 "metadata": {
  "colab": {
   "name": "MNIST.ipynb",
   "provenance": []
  },
  "interpreter": {
   "hash": "369f2c481f4da34e4445cda3fffd2e751bd1c4d706f27375911949ba6bb62e1c"
  },
  "kernelspec": {
   "display_name": "Python 3.10.2 64-bit",
   "language": "python",
   "name": "python3"
  },
  "language_info": {
   "codemirror_mode": {
    "name": "ipython",
    "version": 3
   },
   "file_extension": ".py",
   "mimetype": "text/x-python",
   "name": "python",
   "nbconvert_exporter": "python",
   "pygments_lexer": "ipython3",
   "version": "3.10.2"
  }
 },
 "nbformat": 4,
 "nbformat_minor": 1
}
